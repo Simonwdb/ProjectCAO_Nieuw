{
 "cells": [
  {
   "cell_type": "code",
   "execution_count": 4,
   "id": "bibliographic-hunger",
   "metadata": {},
   "outputs": [],
   "source": [
    "from datetime import datetime"
   ]
  },
  {
   "cell_type": "code",
   "execution_count": 9,
   "id": "magnetic-species",
   "metadata": {},
   "outputs": [],
   "source": [
    "years: list[datetime] = []"
   ]
  },
  {
   "cell_type": "code",
   "execution_count": 10,
   "id": "flexible-mixer",
   "metadata": {},
   "outputs": [],
   "source": [
    "for i in range(18, 22):\n",
    "    years.append(datetime(int(f'20{i}'), 1, 1))"
   ]
  },
  {
   "cell_type": "code",
   "execution_count": 15,
   "id": "loved-owner",
   "metadata": {},
   "outputs": [
    {
     "data": {
      "text/plain": [
       "datetime.datetime(2021, 1, 1, 0, 0)"
      ]
     },
     "execution_count": 15,
     "metadata": {},
     "output_type": "execute_result"
    }
   ],
   "source": [
    "years[-1]"
   ]
  },
  {
   "cell_type": "code",
   "execution_count": 14,
   "id": "sublime-unknown",
   "metadata": {},
   "outputs": [
    {
     "name": "stdout",
     "output_type": "stream",
     "text": [
      "2018-01-01 00:00:00\n",
      "2019-01-01 00:00:00\n",
      "2020-01-01 00:00:00\n"
     ]
    }
   ],
   "source": [
    "for i in range(len(years) -1):\n",
    "    print(years[i])"
   ]
  },
  {
   "cell_type": "code",
   "execution_count": 17,
   "id": "material-transformation",
   "metadata": {},
   "outputs": [
    {
     "name": "stdout",
     "output_type": "stream",
     "text": [
      "0 18\n",
      "1 19\n",
      "2 20\n"
     ]
    }
   ],
   "source": [
    "for i, year in enumerate(range(18, 21)):\n",
    "    print(i, year)"
   ]
  },
  {
   "cell_type": "code",
   "execution_count": 2,
   "id": "banner-canada",
   "metadata": {},
   "outputs": [
    {
     "name": "stdout",
     "output_type": "stream",
     "text": [
      "18\n",
      "19\n",
      "20\n",
      "21\n"
     ]
    }
   ],
   "source": [
    "for i in range(18, 22):\n",
    "    print(i)"
   ]
  }
 ],
 "metadata": {
  "kernelspec": {
   "display_name": "Python 3",
   "language": "python",
   "name": "python3"
  },
  "language_info": {
   "codemirror_mode": {
    "name": "ipython",
    "version": 3
   },
   "file_extension": ".py",
   "mimetype": "text/x-python",
   "name": "python",
   "nbconvert_exporter": "python",
   "pygments_lexer": "ipython3",
   "version": "3.9.1"
  }
 },
 "nbformat": 4,
 "nbformat_minor": 5
}
