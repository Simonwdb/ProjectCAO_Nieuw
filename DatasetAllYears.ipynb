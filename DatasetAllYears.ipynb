{
 "cells": [
  {
   "cell_type": "code",
   "execution_count": 1,
   "id": "charitable-jackson",
   "metadata": {},
   "outputs": [],
   "source": [
    "import calendar\n",
    "import pandas as pd\n",
    "from datetime import datetime, time, date\n",
    "pd.set_option('display.max_rows', 200)"
   ]
  },
  {
   "cell_type": "code",
   "execution_count": 2,
   "id": "established-advocacy",
   "metadata": {},
   "outputs": [],
   "source": [
    "def convert_to_month_name(number: int):\n",
    "    return calendar.month_name[number]"
   ]
  },
  {
   "cell_type": "code",
   "execution_count": 3,
   "id": "suitable-banks",
   "metadata": {},
   "outputs": [],
   "source": [
    "def return_monthly_avg(month_df: pd.DataFrame) -> float:\n",
    "    amount_clicks = month_df['Aantal'].sum()\n",
    "    amount_companies = len(month_df['Klant'])\n",
    "    try:\n",
    "        return round(amount_clicks / amount_companies, 2)\n",
    "    except ZeroDivisionError:\n",
    "        return 0"
   ]
  },
  {
   "cell_type": "code",
   "execution_count": 4,
   "id": "olive-survival",
   "metadata": {},
   "outputs": [],
   "source": [
    "def return_yearly_result(df: pd.DataFrame, year: str) -> list:\n",
    "    result = [year]\n",
    "    month_list = df['Datum'].unique()\n",
    "    for month in month_list:\n",
    "        month_df = df[df['Datum'] == month]\n",
    "        result.append(return_monthly_avg(month_df))\n",
    "    return result"
   ]
  },
  {
   "cell_type": "code",
   "execution_count": 5,
   "id": "respiratory-suicide",
   "metadata": {},
   "outputs": [],
   "source": [
    "path = 'CAOWijzerDataTeGebruiken.xlsx'"
   ]
  },
  {
   "cell_type": "code",
   "execution_count": 6,
   "id": "isolated-validity",
   "metadata": {},
   "outputs": [],
   "source": [
    "df = pd.read_excel(path)"
   ]
  },
  {
   "cell_type": "code",
   "execution_count": 8,
   "id": "raised-feeding",
   "metadata": {},
   "outputs": [],
   "source": [
    "# df[df['Klant'] == 'Talentzaam (CAOWijzer)']"
   ]
  },
  {
   "cell_type": "code",
   "execution_count": 9,
   "id": "chronic-premiere",
   "metadata": {},
   "outputs": [],
   "source": [
    "df = df[(df['Kosten component id'] == 28) | (df['Kosten component id'] == 38) | (df['Kosten component id'] == 50)]"
   ]
  },
  {
   "cell_type": "code",
   "execution_count": 10,
   "id": "treated-exhibition",
   "metadata": {},
   "outputs": [],
   "source": [
    "year_2018 = datetime(2018, 1, 1)\n",
    "year_2019 = datetime(2019, 1, 1)\n",
    "year_2020 = datetime(2020, 1, 1)\n",
    "year_2021 = datetime(2021, 1, 1)"
   ]
  },
  {
   "cell_type": "code",
   "execution_count": 11,
   "id": "frequent-divorce",
   "metadata": {},
   "outputs": [],
   "source": [
    "df_2018 = df[df['Datum'] < year_2019]\n",
    "df_2018 = df_2018[df_2018['Datum'] > year_2018]"
   ]
  },
  {
   "cell_type": "code",
   "execution_count": 12,
   "id": "growing-activation",
   "metadata": {},
   "outputs": [],
   "source": [
    "df_2019 = df[df['Datum'] < year_2020]\n",
    "df_2019 = df_2019[df_2019['Datum'] > year_2019]"
   ]
  },
  {
   "cell_type": "code",
   "execution_count": 13,
   "id": "round-monster",
   "metadata": {},
   "outputs": [],
   "source": [
    "df_2020 = df[df['Datum'] < year_2021]\n",
    "df_2020 = df_2020[df_2020['Datum'] > year_2020]"
   ]
  },
  {
   "cell_type": "code",
   "execution_count": 14,
   "id": "annual-directive",
   "metadata": {},
   "outputs": [],
   "source": [
    "df_2021 = df[df['Datum'] > year_2021]"
   ]
  },
  {
   "cell_type": "code",
   "execution_count": 15,
   "id": "disciplinary-intermediate",
   "metadata": {},
   "outputs": [],
   "source": [
    "result_2018 = return_yearly_result(df_2018, '2018')"
   ]
  },
  {
   "cell_type": "code",
   "execution_count": 16,
   "id": "removed-amber",
   "metadata": {},
   "outputs": [],
   "source": [
    "result_2019 = return_yearly_result(df_2019, '2019')"
   ]
  },
  {
   "cell_type": "code",
   "execution_count": 17,
   "id": "urban-syria",
   "metadata": {},
   "outputs": [],
   "source": [
    "result_2020 = return_yearly_result(df_2020, '2020')"
   ]
  },
  {
   "cell_type": "code",
   "execution_count": 18,
   "id": "featured-skating",
   "metadata": {},
   "outputs": [],
   "source": [
    "result_2021 = return_yearly_result(df_2021, '2021')"
   ]
  },
  {
   "cell_type": "code",
   "execution_count": 20,
   "id": "colonial-niger",
   "metadata": {},
   "outputs": [],
   "source": [
    "for _ in range(len(result_2020 ) - len(result_2021)):\n",
    "    result_2021.append(0)"
   ]
  },
  {
   "cell_type": "code",
   "execution_count": 21,
   "id": "occasional-excuse",
   "metadata": {},
   "outputs": [],
   "source": [
    "overall_result = [result_2018, result_2019, result_2020, result_2020, result_2021]"
   ]
  },
  {
   "cell_type": "code",
   "execution_count": 22,
   "id": "dress-noise",
   "metadata": {},
   "outputs": [
    {
     "name": "stdout",
     "output_type": "stream",
     "text": [
      "['2018', 73.19, 55.72, 47.15, 42.15, 41.02, 43.39, 53.39, 44.15, 43.43, 54.19, 49.58, 41.09]\n",
      "['2019', 57.82, 49.58, 47.73, 50.78, 48.46, 46.67, 57.49, 43.63, 55.81, 46.25, 46.86, 41.74]\n",
      "['2020', 48.01, 44.98, 44.36, 31.92, 37.44, 48.11, 48.9, 40.12, 50.07, 52.98, 41.81, 36.88]\n",
      "['2021', 42.62, 43.04, 56.18, 53.06, 49.07, 57.82, 61.98, 0, 0, 0, 0, 0]\n"
     ]
    }
   ],
   "source": [
    "print(result_2018)\n",
    "print(result_2019)\n",
    "print(result_2020)\n",
    "print(result_2021)"
   ]
  },
  {
   "cell_type": "code",
   "execution_count": 23,
   "id": "contrary-queensland",
   "metadata": {},
   "outputs": [],
   "source": [
    "df_2018['Datum'] = df_2018['Datum'].apply(lambda x: convert_to_month_name(x.month))"
   ]
  },
  {
   "cell_type": "code",
   "execution_count": 24,
   "id": "sought-foster",
   "metadata": {},
   "outputs": [],
   "source": [
    "month_list = df_2018['Datum'].unique()"
   ]
  },
  {
   "cell_type": "code",
   "execution_count": 25,
   "id": "expected-plane",
   "metadata": {},
   "outputs": [],
   "source": [
    "cols = ['Year']\n",
    "cols.extend(month_list)"
   ]
  },
  {
   "cell_type": "code",
   "execution_count": 26,
   "id": "expanded-consumer",
   "metadata": {},
   "outputs": [],
   "source": [
    "result_df = pd.DataFrame(columns=cols)"
   ]
  },
  {
   "cell_type": "code",
   "execution_count": 27,
   "id": "positive-perry",
   "metadata": {},
   "outputs": [
    {
     "data": {
      "text/html": [
       "<div>\n",
       "<style scoped>\n",
       "    .dataframe tbody tr th:only-of-type {\n",
       "        vertical-align: middle;\n",
       "    }\n",
       "\n",
       "    .dataframe tbody tr th {\n",
       "        vertical-align: top;\n",
       "    }\n",
       "\n",
       "    .dataframe thead th {\n",
       "        text-align: right;\n",
       "    }\n",
       "</style>\n",
       "<table border=\"1\" class=\"dataframe\">\n",
       "  <thead>\n",
       "    <tr style=\"text-align: right;\">\n",
       "      <th></th>\n",
       "      <th>Year</th>\n",
       "      <th>January</th>\n",
       "      <th>February</th>\n",
       "      <th>March</th>\n",
       "      <th>April</th>\n",
       "      <th>May</th>\n",
       "      <th>June</th>\n",
       "      <th>July</th>\n",
       "      <th>August</th>\n",
       "      <th>September</th>\n",
       "      <th>October</th>\n",
       "      <th>November</th>\n",
       "      <th>December</th>\n",
       "    </tr>\n",
       "  </thead>\n",
       "  <tbody>\n",
       "  </tbody>\n",
       "</table>\n",
       "</div>"
      ],
      "text/plain": [
       "Empty DataFrame\n",
       "Columns: [Year, January, February, March, April, May, June, July, August, September, October, November, December]\n",
       "Index: []"
      ]
     },
     "execution_count": 27,
     "metadata": {},
     "output_type": "execute_result"
    }
   ],
   "source": [
    "result_df"
   ]
  },
  {
   "cell_type": "code",
   "execution_count": 28,
   "id": "central-server",
   "metadata": {},
   "outputs": [],
   "source": [
    "for r in overall_result:\n",
    "    result_df.loc[len(result_df)] = r"
   ]
  },
  {
   "cell_type": "code",
   "execution_count": 29,
   "id": "sustained-scratch",
   "metadata": {},
   "outputs": [
    {
     "data": {
      "text/html": [
       "<div>\n",
       "<style scoped>\n",
       "    .dataframe tbody tr th:only-of-type {\n",
       "        vertical-align: middle;\n",
       "    }\n",
       "\n",
       "    .dataframe tbody tr th {\n",
       "        vertical-align: top;\n",
       "    }\n",
       "\n",
       "    .dataframe thead th {\n",
       "        text-align: right;\n",
       "    }\n",
       "</style>\n",
       "<table border=\"1\" class=\"dataframe\">\n",
       "  <thead>\n",
       "    <tr style=\"text-align: right;\">\n",
       "      <th></th>\n",
       "      <th>Year</th>\n",
       "      <th>January</th>\n",
       "      <th>February</th>\n",
       "      <th>March</th>\n",
       "      <th>April</th>\n",
       "      <th>May</th>\n",
       "      <th>June</th>\n",
       "      <th>July</th>\n",
       "      <th>August</th>\n",
       "      <th>September</th>\n",
       "      <th>October</th>\n",
       "      <th>November</th>\n",
       "      <th>December</th>\n",
       "    </tr>\n",
       "  </thead>\n",
       "  <tbody>\n",
       "    <tr>\n",
       "      <th>0</th>\n",
       "      <td>2018</td>\n",
       "      <td>73.19</td>\n",
       "      <td>55.72</td>\n",
       "      <td>47.15</td>\n",
       "      <td>42.15</td>\n",
       "      <td>41.02</td>\n",
       "      <td>43.39</td>\n",
       "      <td>53.39</td>\n",
       "      <td>44.15</td>\n",
       "      <td>43.43</td>\n",
       "      <td>54.19</td>\n",
       "      <td>49.58</td>\n",
       "      <td>41.09</td>\n",
       "    </tr>\n",
       "    <tr>\n",
       "      <th>1</th>\n",
       "      <td>2019</td>\n",
       "      <td>57.82</td>\n",
       "      <td>49.58</td>\n",
       "      <td>47.73</td>\n",
       "      <td>50.78</td>\n",
       "      <td>48.46</td>\n",
       "      <td>46.67</td>\n",
       "      <td>57.49</td>\n",
       "      <td>43.63</td>\n",
       "      <td>55.81</td>\n",
       "      <td>46.25</td>\n",
       "      <td>46.86</td>\n",
       "      <td>41.74</td>\n",
       "    </tr>\n",
       "    <tr>\n",
       "      <th>2</th>\n",
       "      <td>2020</td>\n",
       "      <td>48.01</td>\n",
       "      <td>44.98</td>\n",
       "      <td>44.36</td>\n",
       "      <td>31.92</td>\n",
       "      <td>37.44</td>\n",
       "      <td>48.11</td>\n",
       "      <td>48.90</td>\n",
       "      <td>40.12</td>\n",
       "      <td>50.07</td>\n",
       "      <td>52.98</td>\n",
       "      <td>41.81</td>\n",
       "      <td>36.88</td>\n",
       "    </tr>\n",
       "    <tr>\n",
       "      <th>3</th>\n",
       "      <td>2020</td>\n",
       "      <td>48.01</td>\n",
       "      <td>44.98</td>\n",
       "      <td>44.36</td>\n",
       "      <td>31.92</td>\n",
       "      <td>37.44</td>\n",
       "      <td>48.11</td>\n",
       "      <td>48.90</td>\n",
       "      <td>40.12</td>\n",
       "      <td>50.07</td>\n",
       "      <td>52.98</td>\n",
       "      <td>41.81</td>\n",
       "      <td>36.88</td>\n",
       "    </tr>\n",
       "    <tr>\n",
       "      <th>4</th>\n",
       "      <td>2021</td>\n",
       "      <td>42.62</td>\n",
       "      <td>43.04</td>\n",
       "      <td>56.18</td>\n",
       "      <td>53.06</td>\n",
       "      <td>49.07</td>\n",
       "      <td>57.82</td>\n",
       "      <td>61.98</td>\n",
       "      <td>0.00</td>\n",
       "      <td>0.00</td>\n",
       "      <td>0.00</td>\n",
       "      <td>0.00</td>\n",
       "      <td>0.00</td>\n",
       "    </tr>\n",
       "  </tbody>\n",
       "</table>\n",
       "</div>"
      ],
      "text/plain": [
       "   Year  January  February  March  April    May   June   July  August  \\\n",
       "0  2018    73.19     55.72  47.15  42.15  41.02  43.39  53.39   44.15   \n",
       "1  2019    57.82     49.58  47.73  50.78  48.46  46.67  57.49   43.63   \n",
       "2  2020    48.01     44.98  44.36  31.92  37.44  48.11  48.90   40.12   \n",
       "3  2020    48.01     44.98  44.36  31.92  37.44  48.11  48.90   40.12   \n",
       "4  2021    42.62     43.04  56.18  53.06  49.07  57.82  61.98    0.00   \n",
       "\n",
       "   September  October  November  December  \n",
       "0      43.43    54.19     49.58     41.09  \n",
       "1      55.81    46.25     46.86     41.74  \n",
       "2      50.07    52.98     41.81     36.88  \n",
       "3      50.07    52.98     41.81     36.88  \n",
       "4       0.00     0.00      0.00      0.00  "
      ]
     },
     "execution_count": 29,
     "metadata": {},
     "output_type": "execute_result"
    }
   ],
   "source": [
    "result_df"
   ]
  },
  {
   "cell_type": "code",
   "execution_count": 30,
   "id": "rising-patrick",
   "metadata": {},
   "outputs": [
    {
     "data": {
      "text/html": [
       "<div>\n",
       "<style scoped>\n",
       "    .dataframe tbody tr th:only-of-type {\n",
       "        vertical-align: middle;\n",
       "    }\n",
       "\n",
       "    .dataframe tbody tr th {\n",
       "        vertical-align: top;\n",
       "    }\n",
       "\n",
       "    .dataframe thead th {\n",
       "        text-align: right;\n",
       "    }\n",
       "</style>\n",
       "<table border=\"1\" class=\"dataframe\">\n",
       "  <thead>\n",
       "    <tr style=\"text-align: right;\">\n",
       "      <th></th>\n",
       "      <th>January</th>\n",
       "      <th>February</th>\n",
       "      <th>March</th>\n",
       "      <th>April</th>\n",
       "      <th>May</th>\n",
       "      <th>June</th>\n",
       "      <th>July</th>\n",
       "      <th>August</th>\n",
       "      <th>September</th>\n",
       "      <th>October</th>\n",
       "      <th>November</th>\n",
       "      <th>December</th>\n",
       "    </tr>\n",
       "    <tr>\n",
       "      <th>Year</th>\n",
       "      <th></th>\n",
       "      <th></th>\n",
       "      <th></th>\n",
       "      <th></th>\n",
       "      <th></th>\n",
       "      <th></th>\n",
       "      <th></th>\n",
       "      <th></th>\n",
       "      <th></th>\n",
       "      <th></th>\n",
       "      <th></th>\n",
       "      <th></th>\n",
       "    </tr>\n",
       "  </thead>\n",
       "  <tbody>\n",
       "    <tr>\n",
       "      <th>2018</th>\n",
       "      <td>73.19</td>\n",
       "      <td>55.72</td>\n",
       "      <td>47.15</td>\n",
       "      <td>42.15</td>\n",
       "      <td>41.02</td>\n",
       "      <td>43.39</td>\n",
       "      <td>53.39</td>\n",
       "      <td>44.15</td>\n",
       "      <td>43.43</td>\n",
       "      <td>54.19</td>\n",
       "      <td>49.58</td>\n",
       "      <td>41.09</td>\n",
       "    </tr>\n",
       "    <tr>\n",
       "      <th>2019</th>\n",
       "      <td>57.82</td>\n",
       "      <td>49.58</td>\n",
       "      <td>47.73</td>\n",
       "      <td>50.78</td>\n",
       "      <td>48.46</td>\n",
       "      <td>46.67</td>\n",
       "      <td>57.49</td>\n",
       "      <td>43.63</td>\n",
       "      <td>55.81</td>\n",
       "      <td>46.25</td>\n",
       "      <td>46.86</td>\n",
       "      <td>41.74</td>\n",
       "    </tr>\n",
       "    <tr>\n",
       "      <th>2020</th>\n",
       "      <td>48.01</td>\n",
       "      <td>44.98</td>\n",
       "      <td>44.36</td>\n",
       "      <td>31.92</td>\n",
       "      <td>37.44</td>\n",
       "      <td>48.11</td>\n",
       "      <td>48.90</td>\n",
       "      <td>40.12</td>\n",
       "      <td>50.07</td>\n",
       "      <td>52.98</td>\n",
       "      <td>41.81</td>\n",
       "      <td>36.88</td>\n",
       "    </tr>\n",
       "    <tr>\n",
       "      <th>2020</th>\n",
       "      <td>48.01</td>\n",
       "      <td>44.98</td>\n",
       "      <td>44.36</td>\n",
       "      <td>31.92</td>\n",
       "      <td>37.44</td>\n",
       "      <td>48.11</td>\n",
       "      <td>48.90</td>\n",
       "      <td>40.12</td>\n",
       "      <td>50.07</td>\n",
       "      <td>52.98</td>\n",
       "      <td>41.81</td>\n",
       "      <td>36.88</td>\n",
       "    </tr>\n",
       "    <tr>\n",
       "      <th>2021</th>\n",
       "      <td>42.62</td>\n",
       "      <td>43.04</td>\n",
       "      <td>56.18</td>\n",
       "      <td>53.06</td>\n",
       "      <td>49.07</td>\n",
       "      <td>57.82</td>\n",
       "      <td>61.98</td>\n",
       "      <td>0.00</td>\n",
       "      <td>0.00</td>\n",
       "      <td>0.00</td>\n",
       "      <td>0.00</td>\n",
       "      <td>0.00</td>\n",
       "    </tr>\n",
       "  </tbody>\n",
       "</table>\n",
       "</div>"
      ],
      "text/plain": [
       "      January  February  March  April    May   June   July  August  September  \\\n",
       "Year                                                                            \n",
       "2018    73.19     55.72  47.15  42.15  41.02  43.39  53.39   44.15      43.43   \n",
       "2019    57.82     49.58  47.73  50.78  48.46  46.67  57.49   43.63      55.81   \n",
       "2020    48.01     44.98  44.36  31.92  37.44  48.11  48.90   40.12      50.07   \n",
       "2020    48.01     44.98  44.36  31.92  37.44  48.11  48.90   40.12      50.07   \n",
       "2021    42.62     43.04  56.18  53.06  49.07  57.82  61.98    0.00       0.00   \n",
       "\n",
       "      October  November  December  \n",
       "Year                               \n",
       "2018    54.19     49.58     41.09  \n",
       "2019    46.25     46.86     41.74  \n",
       "2020    52.98     41.81     36.88  \n",
       "2020    52.98     41.81     36.88  \n",
       "2021     0.00      0.00      0.00  "
      ]
     },
     "execution_count": 30,
     "metadata": {},
     "output_type": "execute_result"
    }
   ],
   "source": [
    "result_df.set_index('Year')"
   ]
  },
  {
   "cell_type": "code",
   "execution_count": 31,
   "id": "alleged-layout",
   "metadata": {},
   "outputs": [],
   "source": [
    "# result_df.plot.bar()"
   ]
  },
  {
   "cell_type": "code",
   "execution_count": 32,
   "id": "muslim-station",
   "metadata": {},
   "outputs": [],
   "source": [
    "result_df.to_excel('ResultMultipleYears.xlsx')"
   ]
  },
  {
   "cell_type": "code",
   "execution_count": null,
   "id": "artistic-crime",
   "metadata": {},
   "outputs": [],
   "source": []
  }
 ],
 "metadata": {
  "kernelspec": {
   "display_name": "Python 3",
   "language": "python",
   "name": "python3"
  },
  "language_info": {
   "codemirror_mode": {
    "name": "ipython",
    "version": 3
   },
   "file_extension": ".py",
   "mimetype": "text/x-python",
   "name": "python",
   "nbconvert_exporter": "python",
   "pygments_lexer": "ipython3",
   "version": "3.9.1"
  }
 },
 "nbformat": 4,
 "nbformat_minor": 5
}
