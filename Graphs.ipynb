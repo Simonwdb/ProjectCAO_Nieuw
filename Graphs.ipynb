{
 "cells": [
  {
   "cell_type": "code",
   "execution_count": 1,
   "id": "headed-black",
   "metadata": {},
   "outputs": [],
   "source": [
    "%load_ext autoreload\n",
    "%autoreload 2"
   ]
  },
  {
   "cell_type": "code",
   "execution_count": 2,
   "id": "magnetic-terrace",
   "metadata": {},
   "outputs": [],
   "source": [
    "import matplotlib.pyplot as plt\n",
    "import numpy as np\n",
    "import pandas as pd\n",
    "import ReadData\n",
    "from io import BytesIO\n",
    "import openpyxl"
   ]
  },
  {
   "cell_type": "code",
   "execution_count": 3,
   "id": "selective-kernel",
   "metadata": {},
   "outputs": [],
   "source": [
    "path = 'CAOWijzer dataset 2017 tm 2021P06.xlsx'"
   ]
  },
  {
   "cell_type": "code",
   "execution_count": 4,
   "id": "guided-lloyd",
   "metadata": {},
   "outputs": [],
   "source": [
    "writer = pd.ExcelWriter('VerdelingKlanten.xlsx', engine='openpyxl', mode='a')"
   ]
  },
  {
   "cell_type": "code",
   "execution_count": 5,
   "id": "metallic-mercury",
   "metadata": {},
   "outputs": [],
   "source": [
    "app = ReadData.ReadData(path_file=path)"
   ]
  },
  {
   "cell_type": "code",
   "execution_count": 6,
   "id": "separate-missile",
   "metadata": {},
   "outputs": [],
   "source": [
    "app.process_customers()"
   ]
  },
  {
   "cell_type": "code",
   "execution_count": 7,
   "id": "popular-wayne",
   "metadata": {},
   "outputs": [],
   "source": [
    "first_df = app.get_dataframe_from_customer_list()"
   ]
  },
  {
   "cell_type": "code",
   "execution_count": 8,
   "id": "going-radio",
   "metadata": {},
   "outputs": [],
   "source": [
    "first_df = first_df[first_df['Abonnement'].notna()]"
   ]
  },
  {
   "cell_type": "code",
   "execution_count": 12,
   "id": "referenced-appendix",
   "metadata": {},
   "outputs": [],
   "source": [
    "first_df = first_df.sort_values(by='Laatst gefactureerde datum')"
   ]
  },
  {
   "cell_type": "code",
   "execution_count": 9,
   "id": "experienced-introduction",
   "metadata": {},
   "outputs": [],
   "source": [
    "# making the df to active customers\n",
    "first_df = first_df[first_df['Laatst gefactureerde datum'] == first_df['Laatst gefactureerde datum'].unique()[-1]]"
   ]
  },
  {
   "cell_type": "code",
   "execution_count": 10,
   "id": "center-sodium",
   "metadata": {},
   "outputs": [],
   "source": [
    "first_df.to_excel(writer, sheet_name='Data_punt_3_huidigeVerdeling', startcol=4)"
   ]
  },
  {
   "cell_type": "code",
   "execution_count": 11,
   "id": "alive-developer",
   "metadata": {},
   "outputs": [],
   "source": [
    "light_threshold = 17.14\n",
    "standard_threshold = 45"
   ]
  },
  {
   "cell_type": "code",
   "execution_count": 12,
   "id": "romantic-burner",
   "metadata": {},
   "outputs": [],
   "source": [
    "updated_df = ReadData.update_subscriptions(data_df=first_df, light_threshold=light_threshold, standard_threshold=standard_threshold)"
   ]
  },
  {
   "cell_type": "code",
   "execution_count": 13,
   "id": "superb-portland",
   "metadata": {},
   "outputs": [],
   "source": [
    "updated_df.to_excel(writer, sheet_name='Data_punt_3_naVerdelingHuidig', startcol=4)"
   ]
  },
  {
   "cell_type": "code",
   "execution_count": 14,
   "id": "every-liberty",
   "metadata": {},
   "outputs": [
    {
     "data": {
      "text/plain": [
       "array(['Light', 'Standard', 'Premium'], dtype=object)"
      ]
     },
     "execution_count": 14,
     "metadata": {},
     "output_type": "execute_result"
    }
   ],
   "source": [
    "subs = first_df['Abonnement'].unique()\n",
    "subs"
   ]
  },
  {
   "cell_type": "code",
   "execution_count": 48,
   "id": "original-device",
   "metadata": {},
   "outputs": [],
   "source": [
    "amount_sleeping = len(first_df[first_df['Gem. Gebruik'] == 0])\n",
    "amount_light = len(first_df[(first_df['Abonnement'] == subs[0]) & (first_df['Gem. Gebruik'] > 0)])\n",
    "amount_standard = len(first_df[(first_df['Abonnement'] == subs[1]) & (first_df['Gem. Gebruik'] > 0)])\n",
    "amount_premium = len(first_df[(first_df['Abonnement'] == subs[2]) & (first_df['Gem. Gebruik'] > 0)])\n",
    "values_normal = ['Huidig', amount_sleeping, amount_light, amount_standard, amount_premium]"
   ]
  },
  {
   "cell_type": "code",
   "execution_count": 16,
   "id": "applied-consent",
   "metadata": {},
   "outputs": [],
   "source": [
    "updated_df.loc[(updated_df['Gem. Gebruik'] < light_threshold), 'Abonnement'] = 'Light'\n",
    "updated_df.loc[(updated_df['Gem. Gebruik'] > light_threshold) & (updated_df['Gem. Gebruik'] < standard_threshold) , 'Abonnement'] = 'Standard'\n",
    "updated_df.loc[(updated_df['Gem. Gebruik'] > standard_threshold), 'Abonnement'] = 'Premium'"
   ]
  },
  {
   "cell_type": "code",
   "execution_count": 22,
   "id": "existing-hypothesis",
   "metadata": {},
   "outputs": [],
   "source": [
    "amount_sleeping2 = len(updated_df[updated_df['Gem. Gebruik'] == 0])\n",
    "amount_light2 = len(updated_df[updated_df['Abonnement'] == subs[0]]) - amount_sleeping\n",
    "amount_standard2 = len(updated_df[updated_df['Abonnement'] == subs[1]])\n",
    "amount_premium2 = len(updated_df[updated_df['Abonnement'] == subs[2]])\n",
    "values_updated = ['Na verdeling', 0, amount_light2, amount_standard2, amount_premium2]"
   ]
  },
  {
   "cell_type": "code",
   "execution_count": 20,
   "id": "future-elder",
   "metadata": {},
   "outputs": [],
   "source": [
    "cols = ['Situatie', 'Slapend', 'Light', 'Standard', 'Premium']\n",
    "result_df = pd.DataFrame(columns=cols)"
   ]
  },
  {
   "cell_type": "code",
   "execution_count": 23,
   "id": "governing-naples",
   "metadata": {},
   "outputs": [],
   "source": [
    "result_df.loc[len(result_df)] = values_normal\n",
    "result_df.loc[len(result_df)] = values_updated"
   ]
  },
  {
   "cell_type": "code",
   "execution_count": 24,
   "id": "removed-roulette",
   "metadata": {},
   "outputs": [],
   "source": [
    "result_df = result_df.set_index('Situatie')"
   ]
  },
  {
   "cell_type": "code",
   "execution_count": 25,
   "id": "prepared-concentrate",
   "metadata": {},
   "outputs": [],
   "source": [
    "sheet_name = 'Data_punt_3_naVerdelingHuidig'\n",
    "result_df.to_excel(writer, sheet_name=sheet_name)\n",
    "\n",
    "image_name = BytesIO()\n",
    "\n",
    "ax = result_df.T.plot(kind='bar', rot=360)\n",
    "for p in ax.patches:\n",
    "    if int(p.get_height()) > 0:\n",
    "        ax.annotate(str(p.get_height()), (p.get_x() + 0.05, p.get_height() + 0.75))\n",
    "\n",
    "plt.title('Verdeling na bepaling snijpunten\\n(zonder slapende klanten)')\n",
    "plt.xlabel(f'\\nMet snijpunten:\\nLight: {light_threshold} - Standard: {standard_threshold}.\\nberekend obv van de huidige meerprijzen')\n",
    "\n",
    "plt.savefig(image_name,  bbox_inches='tight', pad_inches=0.1, format='png')\n",
    "plt.close()\n",
    "\n",
    "image_name.seek(0)\n",
    "\n",
    "worksheet = writer.sheets[sheet_name]\n",
    "image = openpyxl.drawing.image.Image(image_name)\n",
    "image.anchor = 'B2'\n",
    "worksheet.add_image(image)\n",
    "\n",
    "writer.save()"
   ]
  },
  {
   "cell_type": "code",
   "execution_count": 22,
   "id": "attempted-congo",
   "metadata": {},
   "outputs": [],
   "source": [
    "# Data voor punt 5"
   ]
  },
  {
   "cell_type": "code",
   "execution_count": 23,
   "id": "abandoned-protein",
   "metadata": {},
   "outputs": [],
   "source": [
    "data_df = updated_df[updated_df['Abonnement'] == 'Light']\n",
    "data_df.to_excel(writer, sheet_name='Data_punt_5', startcol=4)"
   ]
  },
  {
   "cell_type": "code",
   "execution_count": 24,
   "id": "adjusted-bandwidth",
   "metadata": {},
   "outputs": [],
   "source": [
    "image_name = BytesIO()\n",
    "\n",
    "from matplotlib.ticker import AutoMinorLocator\n",
    "fig, ax = plt.subplots(1, figsize=(20,6))\n",
    "bin_amount = 17\n",
    "n, bins, patches = plt.hist(data_df['Gem. Gebruik'], bins=bin_amount, zorder=2, rwidth=0.9)\n",
    "\n",
    "plt.title('Histogram van gemiddelde kliks van klanten in Light abonnement')\n",
    "plt.xlabel('\\nAantal gemiddelde kliks\\n\\n(Na klantverdeling obv huidige tarieven, kliks zijn afgerond naar hele getallen, slapende klanten zijn hierin meegenomen)')\n",
    "\n",
    "# define minor ticks and draw a grid with them\n",
    "minor_locator = AutoMinorLocator(2)\n",
    "plt.gca().xaxis.set_minor_locator(minor_locator)\n",
    "# plt.grid(which='minor', color='white', lw = 0.5)\n",
    "\n",
    "# x ticks\n",
    "xticks = [(bins[idx+1] + value)/2 for idx, value in enumerate(bins[:-1])]\n",
    "xticks_labels = [ \"{:.0f} tot {:.0f}\".format(value, bins[idx+1]) for idx, value in enumerate(bins[:-1])]\n",
    "\n",
    "plt.xticks(xticks, labels = xticks_labels)\n",
    "\n",
    "# remove major and minor ticks from the x axis, but keep the labels\n",
    "ax.tick_params(axis='x', which='both',length=0)\n",
    "\n",
    "# remove y ticks\n",
    "plt.yticks([])\n",
    "\n",
    "# plot values on top of bars\n",
    "for idx, value in enumerate(n):\n",
    "    if value > 0:\n",
    "        plt.text(xticks[idx], value+0.5, int(value), ha='center')\n",
    "\n",
    "# set ylabel\n",
    "plt.ylabel('Aantal klanten')\n",
    "\n",
    "\n",
    "plt.savefig(image_name,  bbox_inches='tight', pad_inches=0.1, format='png')\n",
    "plt.close()\n",
    "\n",
    "image_name.seek(0)\n",
    "\n",
    "worksheet = writer.sheets['Data_punt_5']\n",
    "image = openpyxl.drawing.image.Image(image_name)\n",
    "image.anchor = 'B2'\n",
    "worksheet.add_image(image)\n",
    "\n",
    "writer.save()\n",
    "writer.close()"
   ]
  },
  {
   "cell_type": "code",
   "execution_count": 26,
   "id": "likely-prototype",
   "metadata": {},
   "outputs": [],
   "source": [
    "# ONDERDEEL 2"
   ]
  },
  {
   "cell_type": "code",
   "execution_count": 27,
   "id": "urban-lewis",
   "metadata": {},
   "outputs": [],
   "source": [
    "light_threshold = 15\n",
    "standard_threshold = 37.5\n",
    "column_name = 'Gem. Gebruik'"
   ]
  },
  {
   "cell_type": "code",
   "execution_count": 28,
   "id": "delayed-accommodation",
   "metadata": {},
   "outputs": [],
   "source": [
    "updated_df = ReadData.update_subscriptions(data_df=first_df, light_threshold=light_threshold, standard_threshold=standard_threshold)"
   ]
  },
  {
   "cell_type": "code",
   "execution_count": 29,
   "id": "serial-teach",
   "metadata": {},
   "outputs": [],
   "source": [
    "updated_df.to_excel(writer, sheet_name='Data_punt_3_naVerdelingPDF', startcol=4)"
   ]
  },
  {
   "cell_type": "code",
   "execution_count": 36,
   "id": "healthy-equivalent",
   "metadata": {},
   "outputs": [],
   "source": [
    "amount_light2 = len(updated_df[updated_df['Abonnement'] == subs[0]])\n",
    "amount_standard2 = len(updated_df[updated_df['Abonnement'] == subs[1]])\n",
    "amount_premium2 = len(updated_df[updated_df['Abonnement'] == subs[2]])\n",
    "values_updated = ['Na verdeling', 0, amount_light2, amount_standard2, amount_premium2]"
   ]
  },
  {
   "cell_type": "code",
   "execution_count": 49,
   "id": "collaborative-steel",
   "metadata": {},
   "outputs": [],
   "source": [
    "cols = ['Situatie', 'Slapend', 'Light', 'Standard', 'Premium']\n",
    "result_df = pd.DataFrame(columns=cols)"
   ]
  },
  {
   "cell_type": "code",
   "execution_count": 53,
   "id": "recorded-credits",
   "metadata": {},
   "outputs": [],
   "source": [
    "values_normal = ['Huidig', 11, 61, 132, 11]"
   ]
  },
  {
   "cell_type": "code",
   "execution_count": 55,
   "id": "isolated-elite",
   "metadata": {},
   "outputs": [],
   "source": [
    "values_normal = ['Huidig', 11, amount_light, amount_standard, amount_premium]\n",
    "result_df.loc[len(result_df)] = values_normal\n",
    "result_df.loc[len(result_df)] = values_updated"
   ]
  },
  {
   "cell_type": "code",
   "execution_count": 56,
   "id": "architectural-aaron",
   "metadata": {},
   "outputs": [],
   "source": [
    "result_df = result_df.set_index('Situatie')"
   ]
  },
  {
   "cell_type": "code",
   "execution_count": 57,
   "id": "monthly-supply",
   "metadata": {},
   "outputs": [],
   "source": [
    "sheet_name = 'Data_punt_3_naVerdelingPDF'\n",
    "result_df.to_excel(writer, sheet_name=sheet_name)\n",
    "\n",
    "image_name = BytesIO()\n",
    "\n",
    "ax = result_df.T.plot(kind='bar', rot=360)\n",
    "for p in ax.patches:\n",
    "    if int(p.get_height()) > 0:\n",
    "        ax.annotate(str(p.get_height()), (p.get_x() + 0.05, p.get_height() + 0.75))\n",
    "\n",
    "plt.title('Verdeling na bepaling snijpunten\\n')\n",
    "plt.xlabel(f'\\nMet snijpunten:\\nLight: {light_threshold} - Standard: {standard_threshold}.\\nberekend obv de voorgestelde prijzen vanuit het pdf-bestand')\n",
    "\n",
    "plt.savefig(image_name,  bbox_inches='tight', pad_inches=0.1, format='png')\n",
    "plt.close()\n",
    "\n",
    "image_name.seek(0)\n",
    "\n",
    "worksheet = writer.sheets[sheet_name]\n",
    "image = openpyxl.drawing.image.Image(image_name)\n",
    "image.anchor = 'B2'\n",
    "worksheet.add_image(image)\n",
    "\n",
    "writer.save()"
   ]
  },
  {
   "cell_type": "code",
   "execution_count": 24,
   "id": "humanitarian-functionality",
   "metadata": {},
   "outputs": [],
   "source": [
    "writer.close()"
   ]
  },
  {
   "cell_type": "code",
   "execution_count": null,
   "id": "satisfied-repeat",
   "metadata": {},
   "outputs": [],
   "source": []
  }
 ],
 "metadata": {
  "kernelspec": {
   "display_name": "Python 3",
   "language": "python",
   "name": "python3"
  },
  "language_info": {
   "codemirror_mode": {
    "name": "ipython",
    "version": 3
   },
   "file_extension": ".py",
   "mimetype": "text/x-python",
   "name": "python",
   "nbconvert_exporter": "python",
   "pygments_lexer": "ipython3",
   "version": "3.9.1"
  }
 },
 "nbformat": 4,
 "nbformat_minor": 5
}
